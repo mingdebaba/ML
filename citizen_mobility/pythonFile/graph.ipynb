{
 "cells": [
  {
   "cell_type": "code",
   "execution_count": 1,
   "metadata": {},
   "outputs": [],
   "source": [
    "graph = {\n",
    "    'A':['B','C'],\n",
    "    'B':['A','C','D'],\n",
    "    'C':['A','B','D','E'],\n",
    "    'D':['B','C','E','F'],\n",
    "    'E':['C','D'],\n",
    "    'F':['D']\n",
    "}"
   ]
  },
  {
   "cell_type": "code",
   "execution_count": 10,
   "metadata": {},
   "outputs": [],
   "source": [
    "def DFS_2(graph, s):  # graph是图，s是开始结点\n",
    "    stack = []        # 栈\n",
    "    stack.append(s)   # 开始结点入栈\n",
    "    v = set()\n",
    "    v.add(s)          # 无序添加\n",
    "    # print(s, end=' ')\n",
    "    flag = 0          # 标记\n",
    "    while len(stack) > 0:       # 栈非空\n",
    "        flag = 0\n",
    "        vertex = stack[-1]      # 查看尾元素\n",
    "        nodes = graph[vertex]   # 访问结点相连的结点列表\n",
    "        for w in nodes:\n",
    "            if w not in v:\n",
    "                stack.append(w) # 未被访问的相连的下一个结点入栈\n",
    "                v.add(w)        # 标记已访问\n",
    "                flag = 1        # 存在未被访问的相连结点\n",
    "                print(w, end=' ')\n",
    "                print(vertex + '->' + w)\n",
    "                break\n",
    "        if flag == 0:           # 不存在未被访问的相连结点，回溯\n",
    "            stack.pop()"
   ]
  },
  {
   "cell_type": "code",
   "execution_count": 11,
   "metadata": {},
   "outputs": [
    {
     "name": "stdout",
     "output_type": "stream",
     "text": [
      "C E->C\n",
      "A C->A\n",
      "B A->B\n",
      "D B->D\n",
      "F D->F\n"
     ]
    }
   ],
   "source": [
    "DFS_2(graph, 'E')"
   ]
  },
  {
   "cell_type": "code",
   "execution_count": 12,
   "metadata": {},
   "outputs": [],
   "source": [
    "def BFS(graph,s):#graph图  s指的是开始结点\n",
    "    #需要一个队列\n",
    "    queue=[]\n",
    "    queue.append(s)\n",
    "    seen=set()#看是否访问过该结点\n",
    "    seen.add(s)\n",
    "    while (len(queue)>0):\n",
    "        vertex=queue.pop(0)#保存第一结点，并弹出，方便把他下面的子节点接入\n",
    "        nodes=graph[vertex]#子节点的数组\n",
    "        for w in nodes:\n",
    "            if w not in seen:#判断是否访问过，使用一个数组\n",
    "                queue.append(w)\n",
    "                seen.add(w)\n",
    "        print(vertex)"
   ]
  },
  {
   "cell_type": "code",
   "execution_count": 13,
   "metadata": {},
   "outputs": [
    {
     "name": "stdout",
     "output_type": "stream",
     "text": [
      "B\n",
      "A\n",
      "C\n",
      "D\n",
      "E\n",
      "F\n"
     ]
    }
   ],
   "source": [
    "BFS(graph,'B')"
   ]
  },
  {
   "cell_type": "code",
   "execution_count": null,
   "metadata": {},
   "outputs": [],
   "source": [
    "#Confusion "
   ]
  }
 ],
 "metadata": {
  "kernelspec": {
   "display_name": "Python 3.9.7 ('base')",
   "language": "python",
   "name": "python3"
  },
  "language_info": {
   "codemirror_mode": {
    "name": "ipython",
    "version": 3
   },
   "file_extension": ".py",
   "mimetype": "text/x-python",
   "name": "python",
   "nbconvert_exporter": "python",
   "pygments_lexer": "ipython3",
   "version": "3.9.7"
  },
  "orig_nbformat": 4,
  "vscode": {
   "interpreter": {
    "hash": "eeb9bea61e70784f7118683a786bc6c98a5027c9f70149c135d324a83f473243"
   }
  }
 },
 "nbformat": 4,
 "nbformat_minor": 2
}
