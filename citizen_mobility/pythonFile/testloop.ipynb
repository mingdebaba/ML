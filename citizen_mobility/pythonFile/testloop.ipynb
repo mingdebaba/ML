{
 "cells": [
  {
   "cell_type": "code",
   "execution_count": 1,
   "metadata": {},
   "outputs": [],
   "source": [
    "def counter():\n",
    "    x = 0\n",
    "    while x < 5:\n",
    "        yield x\n",
    "        x += 1"
   ]
  },
  {
   "cell_type": "code",
   "execution_count": 2,
   "metadata": {},
   "outputs": [
    {
     "name": "stdout",
     "output_type": "stream",
     "text": [
      "Simple function call:  <generator object counter at 0x0000016F6FCFFC30>\n",
      "Now lets try using a loop:\n",
      "0\n",
      "1\n",
      "2\n",
      "3\n",
      "4\n"
     ]
    }
   ],
   "source": [
    "print(\"Simple function call: \", counter())    # should print 0\n",
    "\n",
    "# and now lets use a loop to print values\n",
    "print(\"Now lets try using a loop:\")\n",
    "for y in counter():\n",
    "    print(y)"
   ]
  },
  {
   "cell_type": "code",
   "execution_count": 7,
   "metadata": {},
   "outputs": [
    {
     "name": "stdout",
     "output_type": "stream",
     "text": [
      "starting...\n",
      "ここでstopした\n",
      "1\n",
      "ここでstopした\n",
      "2\n",
      "ここでstopした\n",
      "3\n",
      "ここでstopした\n",
      "4\n",
      "ここでstopした\n",
      "5\n",
      "ここでstopした\n",
      "6\n",
      "ここでstopした\n",
      "7\n",
      "ここでstopした\n",
      "8\n",
      "ここでstopした\n",
      "9\n",
      "ここでstopした\n",
      "10\n",
      "num is\n",
      "10\n"
     ]
    }
   ],
   "source": [
    "def foo(num):\n",
    "    print(\"starting...\")\n",
    "    while num<10:\n",
    "        num=num+1\n",
    "        yield num\n",
    "    print(num)\n",
    "for n in foo(0):\n",
    "    print(\"ここでstopした\")\n",
    "    print(n)"
   ]
  },
  {
   "cell_type": "code",
   "execution_count": null,
   "metadata": {},
   "outputs": [],
   "source": [
    "ここにリンクを貼りたい。\n",
    "<a id='anchor'></a>"
   ]
  },
  {
   "cell_type": "markdown",
   "metadata": {},
   "source": []
  },
  {
   "cell_type": "markdown",
   "metadata": {},
   "source": [
    "ここにリンクを貼りたい。\n",
    "<a id='anchor'></a>"
   ]
  },
  {
   "cell_type": "code",
   "execution_count": 9,
   "metadata": {},
   "outputs": [
    {
     "name": "stdout",
     "output_type": "stream",
     "text": [
      "函数结果是一个生成器： <generator object fun_yield at 0x0000016F70EE70D0>\n",
      "对此生成器还是进行调用：\n",
      "第一次调用\n",
      "starting fun yield\n",
      "生成器的返回值 9\n",
      "第二次调用\n",
      "判断yield之后是否继续执行 None\n",
      "生成器的返回值 9\n",
      "第三次调用\n",
      "判断yield之后是否继续执行 None\n",
      "生成器的返回值 9\n"
     ]
    }
   ],
   "source": [
    "def fun_yield(i):\n",
    "    print(\"starting fun yield\")\n",
    "    while True:\n",
    "        res = yield 4 + i\n",
    "        print(\"判断yield之后是否继续执行\",res)\n",
    "\n",
    "g = fun_yield(5) # 调用这个函数只是会得到一个生成器\n",
    "print(\"函数结果是一个生成器：\",g)\n",
    "\n",
    "print(\"对此生成器还是进行调用：\")\n",
    "print(\"第一次调用\")\n",
    "print(\"生成器的返回值\",next(g))\n",
    "print(\"第二次调用\")\n",
    "print(\"生成器的返回值\",next(g))\n",
    "print(\"第三次调用\")\n",
    "print(\"生成器的返回值\",next(g))\n"
   ]
  },
  {
   "cell_type": "code",
   "execution_count": 12,
   "metadata": {},
   "outputs": [
    {
     "name": "stdout",
     "output_type": "stream",
     "text": [
      "e\n",
      "a\n",
      "b\n",
      "c\n",
      "d\n"
     ]
    }
   ],
   "source": [
    "import collections\n",
    "class graph:\n",
    "   def __init__(self,gdict=None):\n",
    "      if gdict is None:\n",
    "         gdict = {}\n",
    "      self.gdict = gdict\n",
    "def bfs(graph, startnode):\n",
    "# Track the visited and unvisited nodes using queue\n",
    "   seen, queue = set([startnode]), collections.deque([startnode])\n",
    "   while queue:\n",
    "      vertex = queue.popleft()\n",
    "      marked(vertex)\n",
    "      for node in graph[vertex]:\n",
    "         if node not in seen:\n",
    "            seen.add(node)\n",
    "            queue.append(node)\n",
    "\n",
    "def marked(n):\n",
    "   print(n)\n",
    "\n",
    "# The graph dictionary\n",
    "gdict = { \n",
    "   \"a\" : set([\"b\",\"c\"]),\n",
    "   \"b\" : set([\"a\", \"d\"]),\n",
    "   \"c\" : set([\"a\", \"d\"]),\n",
    "   \"d\" : set([\"e\"]),\n",
    "   \"e\" : set([\"a\"])\n",
    "}\n",
    "bfs(gdict, \"e\")"
   ]
  },
  {
   "cell_type": "code",
   "execution_count": null,
   "metadata": {},
   "outputs": [],
   "source": []
  },
  {
   "cell_type": "markdown",
   "metadata": {},
   "source": [
    "[アンカーに飛ぶ](#anchor)"
   ]
  }
 ],
 "metadata": {
  "kernelspec": {
   "display_name": "Python 3.10.6 ('ml')",
   "language": "python",
   "name": "python3"
  },
  "language_info": {
   "codemirror_mode": {
    "name": "ipython",
    "version": 3
   },
   "file_extension": ".py",
   "mimetype": "text/x-python",
   "name": "python",
   "nbconvert_exporter": "python",
   "pygments_lexer": "ipython3",
   "version": "3.10.6"
  },
  "orig_nbformat": 4,
  "vscode": {
   "interpreter": {
    "hash": "cf1d9465f6502f177b365be3304d09fdeffdb2bc4d9e067aaaa01fb948a8cbd7"
   }
  }
 },
 "nbformat": 4,
 "nbformat_minor": 2
}
