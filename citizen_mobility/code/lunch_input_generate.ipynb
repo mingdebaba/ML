{
 "cells": [
  {
   "cell_type": "code",
   "execution_count": 31,
   "metadata": {},
   "outputs": [],
   "source": [
    "from datetime import timedelta, datetime\n",
    "import datetime\n",
    "import numpy as np\n",
    "from random import randrange\n",
    "from datetime import timedelta, datetime\n",
    "import pandas as pd"
   ]
  },
  {
   "cell_type": "code",
   "execution_count": 2,
   "metadata": {},
   "outputs": [],
   "source": [
    "def personID_generate(firstID, personNum, times):\n",
    "    \"\"\"\n",
    "    ユーザID生成\n",
    "\n",
    "    Parameters\n",
    "    ----------\n",
    "        firstID (_num_): 一番目ID\n",
    "        personNum (_num_): ユーザ数\n",
    "        times (_num_): 行動回数\n",
    "\n",
    "    Returns\n",
    "        _list_: _ユーザIDリスト_\n",
    "    \"\"\"\n",
    "    arr = []\n",
    "    start = firstID\n",
    "    for j in range(personNum):\n",
    "        for i in range(times):\n",
    "            arr.append(start)\n",
    "        start += 1\n",
    "    return arr\n"
   ]
  },
  {
   "cell_type": "code",
   "execution_count": 3,
   "metadata": {},
   "outputs": [],
   "source": [
    "def random_date(start, end):\n",
    "    \"\"\"範囲以内のランダムのタイミング生成\n",
    "\n",
    "    Parameters\n",
    "        _datetime_ \"%Y/%m/%d %H:%M:%S\"\n",
    "        start (_datetime_): ランダム開始時刻\n",
    "        end (_datetime_): ランダム終了時刻\n",
    "    Returns\n",
    "        _str_: ランダム時刻\n",
    "    \"\"\"\n",
    "    delta = datetime.strptime(end, \"%Y/%m/%d %H:%M:%S\")-datetime.strptime(start, \"%Y/%m/%d %H:%M:%S\")\n",
    "    int_delta = (delta.days * 24 * 60 * 60) + delta.seconds\n",
    "    random_second = randrange(int_delta)\n",
    "    random_time = datetime.strptime(start, \"%Y/%m/%d %H:%M:%S\")+timedelta(seconds=random_second)\n",
    "    return random_time"
   ]
  },
  {
   "cell_type": "code",
   "execution_count": 44,
   "metadata": {},
   "outputs": [
    {
     "name": "stdout",
     "output_type": "stream",
     "text": [
      "[['2022/10/11 11:01:58' '2022/10/11 12:01:21']\n",
      " ['2022/10/11 12:04:45' '2022/10/11 13:33:18']\n",
      " ['2022/10/11 13:34:17' '2022/10/11 14:03:56']\n",
      " ['2022/10/11 11:05:04' '2022/10/11 11:56:57']\n",
      " ['2022/10/11 13:05:56' '2022/10/11 13:37:06']\n",
      " ['2022/10/11 11:49:27' '2022/10/11 14:11:57']]\n"
     ]
    }
   ],
   "source": [
    "def random_time_generate(start, end, person):\n",
    "    \"\"\"\n",
    "    ランチ開始、終了期間生成\n",
    "    \n",
    "    Parameters\n",
    "    ----------\n",
    "        _datetime_ \"%Y/%m/%d %H:%M:%S\"\n",
    "        start(_datetime_): ランチ範囲開始\n",
    "        end(_datetime_): ランチ範囲終了\n",
    "            \n",
    "    Returns\n",
    "    -------\n",
    "        time_arr(_list_): 時刻リスト\n",
    "    \"\"\"\n",
    "    time_arr = []\n",
    "    for i in range(person):\n",
    "        time1 = random_date(start, end)\n",
    "        time2 = random_date(start, end)\n",
    "        if time1 > time2:\n",
    "            time_arr.append(datetime.strftime(time2, '%Y/%m/%d %H:%M:%S'))\n",
    "            time_arr.append(datetime.strftime(time1, '%Y/%m/%d %H:%M:%S'))\n",
    "        else:\n",
    "            time_arr.append(datetime.strftime(time1, '%Y/%m/%d %H:%M:%S'))\n",
    "            time_arr.append(datetime.strftime(time2, '%Y/%m/%d %H:%M:%S'))\n",
    "    arr = np.array(time_arr)\n",
    "    time_arr2D = arr.reshape(person,2)\n",
    "    return time_arr2D"
   ]
  },
  {
   "cell_type": "code",
   "execution_count": 35,
   "metadata": {},
   "outputs": [],
   "source": [
    "def type_generate(type, times):\n",
    "    \"\"\"種別生成ループ\n",
    "\n",
    "    Parameters\n",
    "        type (_list_): 種別ループ\n",
    "        times (_num_): ループ回数\n",
    "\n",
    "    Returns\n",
    "        _list_: 種別リスト\n",
    "    \"\"\"\n",
    "    arr = []\n",
    "    for i in range(times):\n",
    "        for j in type:\n",
    "            arr.append(j)\n",
    "    return arr"
   ]
  },
  {
   "cell_type": "code",
   "execution_count": 73,
   "metadata": {},
   "outputs": [],
   "source": [
    "\"\"\"\n",
    "生成lunch_input.csv\n",
    "\"\"\"\n",
    "person = 100\n",
    "person_id = personID_generate(10001, person, 1)  # 10000 ユーザID / 100 ユーザ数量 / 5事件つき\n",
    "action_type = type_generate([1], person)  # 1:食事\n",
    "\n",
    "start_end_time = random_time_generate(\"2022/10/11 11:00:00\",\"2022/10/11 15:00:00\",person)\n",
    "\n",
    "data = {\n",
    "    \"person_id\": person_id,\n",
    "    \"action_type\": action_type,\n",
    "    \"start_time\": start_end_time[:,0],\n",
    "    \"end_time\" : start_end_time[:,1]\n",
    "}\n",
    "df = pd.DataFrame.from_dict(data, orient=\"index\")\n",
    "dfT = pd.DataFrame(df.values.T, index=df.columns, columns=df.index)\n",
    "dfT.to_csv(\"././lunch_input.csv\", index=False)"
   ]
  },
  {
   "cell_type": "code",
   "execution_count": 6,
   "metadata": {},
   "outputs": [
    {
     "name": "stdout",
     "output_type": "stream",
     "text": [
      "  name  number  d\n",
      "1  cat       3  0\n",
      "a  123      30  0\n"
     ]
    }
   ],
   "source": [
    "import pandas as pd\n",
    "df = pd.DataFrame(columns=['name', 'number'])\n",
    "\n",
    "# loc[]中需要加入的是插入地方dataframe的索引，默认是整数型\n",
    "df.loc[1] = ['cat', 3] \n",
    "df.loc['a'] = ['123',30]\n",
    "df.loc[:, 'd'] = 0\n",
    "print(df)\n"
   ]
  }
 ],
 "metadata": {
  "kernelspec": {
   "display_name": "Python 3.10.6 ('ml')",
   "language": "python",
   "name": "python3"
  },
  "language_info": {
   "codemirror_mode": {
    "name": "ipython",
    "version": 3
   },
   "file_extension": ".py",
   "mimetype": "text/x-python",
   "name": "python",
   "nbconvert_exporter": "python",
   "pygments_lexer": "ipython3",
   "version": "3.10.6"
  },
  "orig_nbformat": 4,
  "vscode": {
   "interpreter": {
    "hash": "cf1d9465f6502f177b365be3304d09fdeffdb2bc4d9e067aaaa01fb948a8cbd7"
   }
  }
 },
 "nbformat": 4,
 "nbformat_minor": 2
}
