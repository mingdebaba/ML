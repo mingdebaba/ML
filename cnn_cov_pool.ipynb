{
 "cells": [
  {
   "cell_type": "code",
   "execution_count": null,
   "metadata": {},
   "outputs": [],
   "source": [
    "#tf.nn.conv2d(input, filter, strides, padding, use_cudnn_on_gpu=None, \n",
    "name=None)\n",
    "#input：需要做卷积的输入数据。注意：这是一个4维的张量（[batch, in_height, \n",
    "#in_width, in_channels]），要求类型为float32或float64其中之一。\n",
    "#• filter：卷积核。[filter_height, filter_width, in_channels, out_channels]\n",
    "#• strides：图像每一维的步长，是一个一维向量，长度为4\n",
    "#• padding：定义元素边框与元素内容之间的空间。\"SAME\"或\"VALID\"，这个值\n",
    "#决定了不同的卷积方式。当为\"SAME\"时，表示边缘填充，适用于全尺寸操作；\n",
    "#当为\"VALID\"时，表示边缘不填充。\n",
    "#• use_cudnn_on_gpu：bool类型，是否使用cudnn加速\n",
    "#• name：该操作的名称\n",
    "#• 返回值：返回一个tensor，即feature map"
   ]
  },
  {
   "cell_type": "code",
   "execution_count": null,
   "metadata": {},
   "outputs": [],
   "source": [
    "#最大池化：tf.nn.max_pool(value, ksize, strides, padding, name=None) \n",
    "#平均池化：tf.nn.avg_pool(value, ksize, strides, padding, name=None)\n",
    "#value：需要池化的输入。一般池化层接在卷积层后面，所以输入通常是conv2d\n",
    "#所输出的feature map，依然是4维的张量（[batch, height, width, \n",
    "#channels]）。\n",
    "#• ksize：池化窗口的大小，由于一般不在batch和channel上做池化，所以ksize一\n",
    "#般是[1,height, width,1]，\n",
    "#• strides：图像每一维的步长，是一个一维向量，长度为4\n",
    "#• padding：和卷积函数中padding含义一样\n",
    "#• name：该操作的名称\n",
    "#• 返回值：返回一个tensor##"
   ]
  }
 ],
 "metadata": {
  "kernelspec": {
   "display_name": "Python 3",
   "language": "python",
   "name": "python3"
  },
  "language_info": {
   "codemirror_mode": {
    "name": "ipython",
    "version": 3
   },
   "file_extension": ".py",
   "mimetype": "text/x-python",
   "name": "python",
   "nbconvert_exporter": "python",
   "pygments_lexer": "ipython3",
   "version": "3.8.5"
  }
 },
 "nbformat": 4,
 "nbformat_minor": 4
}
