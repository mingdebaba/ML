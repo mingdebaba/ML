{
 "cells": [
  {
   "cell_type": "code",
   "execution_count": null,
   "metadata": {},
   "outputs": [],
   "source": [
    "import urllib.request as req\n",
    "url =\"http://uta.pw/shodou/img/28/214.png\"\n",
    "req.urlretrieve(url,\"test.png\")\n",
    "\n",
    "import cv2 as cv2\n",
    "print(cv2.__version__)\n",
    "img =cv2.imread(\"test.png\")\n",
    "cv2.imwrite(\"test.png\",img)\n",
    "print(img)"
   ]
  },
  {
   "cell_type": "code",
   "execution_count": null,
   "metadata": {},
   "outputs": [],
   "source": [
    "import matplotlib.pyplot as plt\n",
    "plt.imshow(cv2.cvtColor(img,cv2.COLOR_BGR2RGB))\n",
    "plt.show()"
   ]
  },
  {
   "cell_type": "code",
   "execution_count": null,
   "metadata": {},
   "outputs": [],
   "source": [
    "im2 =cv2.resize(img,(600,300))\n",
    "\n",
    "im3 =img[150:450,150:450]\n",
    "im3 =cv2.resize(im3,(400,400))"
   ]
  },
  {
   "cell_type": "code",
   "execution_count": null,
   "metadata": {},
   "outputs": [],
   "source": [
    "#顔検索\n",
    "#カスケードファイルを指定する\n",
    "cascade_file =\"haarcascade_frontalface_alt.xml\"\n",
    "cascade = cv2.CascadeClassifier(cascade_file)\n",
    "\n",
    "#画像の読み込み\n",
    "img =cv2.imread(\"girl.jpg\")\n",
    "img_gray =cv2.cvtColor(img,cv2.COLOR_BGR2GRAY)\n",
    "\n",
    "face_list = cascade.detectMultiScale(img_gray,minSize=(150,150))\n",
    "\n",
    "#結果確認\n",
    "if len(face_list) == 0:\n",
    "    print(\"失敗\")\n",
    "    quit()\n",
    "for (x,y,w,h) in face_list:\n",
    "    print(\"顔の座標\")\n",
    "    red=(0,0,255)\n",
    "    cv2.rectangle(img,(x,y),(x+w,y+h),red,thickness=20)\n",
    "\n",
    "cv2.imwtire(\"face_detect.png\",img)\n",
    "plt.imshow(cv2.cvtColor(img,cv2.COLOR_BGR2RGB))"
   ]
  }
 ],
 "metadata": {
  "kernelspec": {
   "display_name": "ml",
   "language": "python",
   "name": "python3"
  },
  "language_info": {
   "codemirror_mode": {
    "name": "ipython",
    "version": 3
   },
   "file_extension": ".py",
   "mimetype": "text/x-python",
   "name": "python",
   "nbconvert_exporter": "python",
   "pygments_lexer": "ipython3",
   "version": "3.10.6"
  },
  "orig_nbformat": 4,
  "vscode": {
   "interpreter": {
    "hash": "6cc89c898d1089477244f9a8064e921d9248648523d0f4f0a401b4ae8980a7a0"
   }
  }
 },
 "nbformat": 4,
 "nbformat_minor": 2
}
