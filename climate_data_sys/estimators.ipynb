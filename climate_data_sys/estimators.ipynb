{
 "cells": [
  {
   "cell_type": "code",
   "execution_count": 6,
   "metadata": {},
   "outputs": [],
   "source": [
    "#selectAlgorithm\n",
    "\n",
    "import pandas as pd \n",
    "from sklearn.model_selection import train_test_split\n",
    "\n",
    "from sklearn.metrics import accuracy_score\n",
    "import warnings\n",
    "from sklearn.utils.discovery import all_estimators"
   ]
  },
  {
   "cell_type": "code",
   "execution_count": null,
   "metadata": {},
   "outputs": [],
   "source": [
    "iris_data = pd.read_csv()\n",
    "\n",
    "\n",
    "#ラベルとデータ分離\n",
    "y = iris_data.loc[:\"Name\"]\n",
    "x = iris_data.loc[:,[\"SepalLength\",\"SepalWidth\",\"PetalLength\",\"PetalWidth\"]]\n",
    "\n",
    "#学習とテスト分離\n",
    "x_train ,x_test,y_train,y_test = train_test_split(x,y,test_size = 0.2,train_size =0.8,shuffle = True)"
   ]
  },
  {
   "cell_type": "code",
   "execution_count": null,
   "metadata": {},
   "outputs": [],
   "source": [
    "#classifier のアルゴリズムすべてを習得\n",
    "warnings.filterwarnings('ignore')\n",
    "allAlgorithms = all_estimators(type_filte=\"classifier\")\n",
    "\n",
    "\n",
    "for(name,algorithm) in allAlgorithms:\n",
    "    clf = algorithm()\n",
    "    clf.fit (x_train,y_train)\n",
    "    y_pred = clf.predict(x_test)\n",
    "    print(name,\"の正解率=\",,accuracy_score(y_test,y_pred))"
   ]
  }
 ],
 "metadata": {
  "kernelspec": {
   "display_name": "ml",
   "language": "python",
   "name": "python3"
  },
  "language_info": {
   "codemirror_mode": {
    "name": "ipython",
    "version": 3
   },
   "file_extension": ".py",
   "mimetype": "text/x-python",
   "name": "python",
   "nbconvert_exporter": "python",
   "pygments_lexer": "ipython3",
   "version": "3.10.6"
  },
  "orig_nbformat": 4,
  "vscode": {
   "interpreter": {
    "hash": "6cc89c898d1089477244f9a8064e921d9248648523d0f4f0a401b4ae8980a7a0"
   }
  }
 },
 "nbformat": 4,
 "nbformat_minor": 2
}
