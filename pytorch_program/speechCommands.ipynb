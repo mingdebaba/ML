{
 "cells": [
  {
   "cell_type": "code",
   "execution_count": 1,
   "metadata": {},
   "outputs": [
    {
     "name": "stderr",
     "output_type": "stream",
     "text": [
      "c:\\Users\\USER\\.conda\\envs\\ml\\lib\\site-packages\\tqdm\\auto.py:22: TqdmWarning: IProgress not found. Please update jupyter and ipywidgets. See https://ipywidgets.readthedocs.io/en/stable/user_install.html\n",
      "  from .autonotebook import tqdm as notebook_tqdm\n",
      "c:\\Users\\USER\\.conda\\envs\\ml\\lib\\site-packages\\torchaudio\\backend\\utils.py:62: UserWarning: No audio backend is available.\n",
      "  warnings.warn(\"No audio backend is available.\")\n"
     ]
    }
   ],
   "source": [
    "import torch\n",
    "import torch.nn as nn\n",
    "import torch.nn.functional as F\n",
    "import torch.optim as optim\n",
    "import torchaudio\n",
    "import matplotlib.pyplot as plt\n",
    "import IPython.display as ipd\n",
    "from tqdm import tqdm"
   ]
  },
  {
   "cell_type": "code",
   "execution_count": 2,
   "metadata": {},
   "outputs": [
    {
     "name": "stdout",
     "output_type": "stream",
     "text": [
      "cpu\n"
     ]
    }
   ],
   "source": [
    "device  = torch.device(\"cuda\" if torch.cuda.is_available() else \"cpu\")\n",
    "print(device)"
   ]
  },
  {
   "cell_type": "code",
   "execution_count": 3,
   "metadata": {},
   "outputs": [],
   "source": [
    "from torchaudio.datasets import SPEECHCOMMANDS\n",
    "import os "
   ]
  },
  {
   "cell_type": "code",
   "execution_count": 9,
   "metadata": {},
   "outputs": [
    {
     "name": "stderr",
     "output_type": "stream",
     "text": [
      "100%|██████████| 2.26G/2.26G [08:05<00:00, 5.01MB/s] \n"
     ]
    },
    {
     "ename": "AttributeError",
     "evalue": "'str' object has no attribute 'strio'",
     "output_type": "error",
     "traceback": [
      "\u001b[1;31m---------------------------------------------------------------------------\u001b[0m",
      "\u001b[1;31mAttributeError\u001b[0m                            Traceback (most recent call last)",
      "\u001b[1;32mc:\\Users\\USER\\Documents\\GitHub\\blabla\\pytorch_program\\speechCommands.ipynb Cell 4\u001b[0m in \u001b[0;36m<cell line: 18>\u001b[1;34m()\u001b[0m\n\u001b[0;32m     <a href='vscode-notebook-cell:/c%3A/Users/USER/Documents/GitHub/blabla/pytorch_program/speechCommands.ipynb#W4sZmlsZQ%3D%3D?line=14'>15</a>\u001b[0m             excludes \u001b[39m=\u001b[39m \u001b[39mset\u001b[39m(excludes)\n\u001b[0;32m     <a href='vscode-notebook-cell:/c%3A/Users/USER/Documents/GitHub/blabla/pytorch_program/speechCommands.ipynb#W4sZmlsZQ%3D%3D?line=15'>16</a>\u001b[0m             \u001b[39mself\u001b[39m\u001b[39m.\u001b[39m_walker \u001b[39m=\u001b[39m [w \u001b[39mfor\u001b[39;00m w \u001b[39min\u001b[39;00m self_walker \u001b[39mif\u001b[39;00m w \u001b[39mnot\u001b[39;00m \u001b[39min\u001b[39;00m excludes]         \n\u001b[1;32m---> <a href='vscode-notebook-cell:/c%3A/Users/USER/Documents/GitHub/blabla/pytorch_program/speechCommands.ipynb#W4sZmlsZQ%3D%3D?line=17'>18</a>\u001b[0m train_set \u001b[39m=\u001b[39m SubsetSC(\u001b[39m\"\u001b[39;49m\u001b[39mtraining\u001b[39;49m\u001b[39m\"\u001b[39;49m)\n\u001b[0;32m     <a href='vscode-notebook-cell:/c%3A/Users/USER/Documents/GitHub/blabla/pytorch_program/speechCommands.ipynb#W4sZmlsZQ%3D%3D?line=18'>19</a>\u001b[0m test_set \u001b[39m=\u001b[39m SubsetSC(\u001b[39m\"\u001b[39m\u001b[39mtesting\u001b[39m\u001b[39m\"\u001b[39m)\n\u001b[0;32m     <a href='vscode-notebook-cell:/c%3A/Users/USER/Documents/GitHub/blabla/pytorch_program/speechCommands.ipynb#W4sZmlsZQ%3D%3D?line=19'>20</a>\u001b[0m waveform,sample_rate,label,speak_id,utterance_numver \u001b[39m=\u001b[39mtrain_set[\u001b[39m0\u001b[39m]\n",
      "\u001b[1;32mc:\\Users\\USER\\Documents\\GitHub\\blabla\\pytorch_program\\speechCommands.ipynb Cell 4\u001b[0m in \u001b[0;36mSubsetSC.__init__\u001b[1;34m(self, subset)\u001b[0m\n\u001b[0;32m     <a href='vscode-notebook-cell:/c%3A/Users/USER/Documents/GitHub/blabla/pytorch_program/speechCommands.ipynb#W4sZmlsZQ%3D%3D?line=11'>12</a>\u001b[0m     \u001b[39mself\u001b[39m\u001b[39m.\u001b[39m_walker \u001b[39m=\u001b[39m load_list(\u001b[39m\"\u001b[39m\u001b[39mtesting_list.txt\u001b[39m\u001b[39m\"\u001b[39m)\n\u001b[0;32m     <a href='vscode-notebook-cell:/c%3A/Users/USER/Documents/GitHub/blabla/pytorch_program/speechCommands.ipynb#W4sZmlsZQ%3D%3D?line=12'>13</a>\u001b[0m \u001b[39melif\u001b[39;00m subset \u001b[39m==\u001b[39m \u001b[39m\"\u001b[39m\u001b[39mtraining\u001b[39m\u001b[39m\"\u001b[39m:\n\u001b[1;32m---> <a href='vscode-notebook-cell:/c%3A/Users/USER/Documents/GitHub/blabla/pytorch_program/speechCommands.ipynb#W4sZmlsZQ%3D%3D?line=13'>14</a>\u001b[0m     excludes \u001b[39m=\u001b[39m load_list(\u001b[39m\"\u001b[39;49m\u001b[39mvalidation_list.txt\u001b[39;49m\u001b[39m\"\u001b[39;49m)\u001b[39m+\u001b[39m load_list(\u001b[39m\"\u001b[39m\u001b[39mtesting_list.txt\u001b[39m\u001b[39m\"\u001b[39m)\n\u001b[0;32m     <a href='vscode-notebook-cell:/c%3A/Users/USER/Documents/GitHub/blabla/pytorch_program/speechCommands.ipynb#W4sZmlsZQ%3D%3D?line=14'>15</a>\u001b[0m     excludes \u001b[39m=\u001b[39m \u001b[39mset\u001b[39m(excludes)\n\u001b[0;32m     <a href='vscode-notebook-cell:/c%3A/Users/USER/Documents/GitHub/blabla/pytorch_program/speechCommands.ipynb#W4sZmlsZQ%3D%3D?line=15'>16</a>\u001b[0m     \u001b[39mself\u001b[39m\u001b[39m.\u001b[39m_walker \u001b[39m=\u001b[39m [w \u001b[39mfor\u001b[39;00m w \u001b[39min\u001b[39;00m self_walker \u001b[39mif\u001b[39;00m w \u001b[39mnot\u001b[39;00m \u001b[39min\u001b[39;00m excludes]\n",
      "\u001b[1;32mc:\\Users\\USER\\Documents\\GitHub\\blabla\\pytorch_program\\speechCommands.ipynb Cell 4\u001b[0m in \u001b[0;36mSubsetSC.__init__.<locals>.load_list\u001b[1;34m(filename)\u001b[0m\n\u001b[0;32m      <a href='vscode-notebook-cell:/c%3A/Users/USER/Documents/GitHub/blabla/pytorch_program/speechCommands.ipynb#W4sZmlsZQ%3D%3D?line=5'>6</a>\u001b[0m filepath \u001b[39m=\u001b[39m os\u001b[39m.\u001b[39mpath\u001b[39m.\u001b[39mjoin(\u001b[39mself\u001b[39m\u001b[39m.\u001b[39m_path,filename)\n\u001b[0;32m      <a href='vscode-notebook-cell:/c%3A/Users/USER/Documents/GitHub/blabla/pytorch_program/speechCommands.ipynb#W4sZmlsZQ%3D%3D?line=6'>7</a>\u001b[0m \u001b[39mwith\u001b[39;00m \u001b[39mopen\u001b[39m(filepath) \u001b[39mas\u001b[39;00m fileobj:\n\u001b[1;32m----> <a href='vscode-notebook-cell:/c%3A/Users/USER/Documents/GitHub/blabla/pytorch_program/speechCommands.ipynb#W4sZmlsZQ%3D%3D?line=7'>8</a>\u001b[0m     \u001b[39mreturn\u001b[39;00m [os\u001b[39m.\u001b[39mpath\u001b[39m.\u001b[39mnormpath(os\u001b[39m.\u001b[39mpath\u001b[39m.\u001b[39mjoin(\u001b[39mself\u001b[39m\u001b[39m.\u001b[39m_path,line\u001b[39m.\u001b[39mstrio())) \u001b[39mfor\u001b[39;00m line \u001b[39min\u001b[39;00m fileobj]\n",
      "\u001b[1;32mc:\\Users\\USER\\Documents\\GitHub\\blabla\\pytorch_program\\speechCommands.ipynb Cell 4\u001b[0m in \u001b[0;36m<listcomp>\u001b[1;34m(.0)\u001b[0m\n\u001b[0;32m      <a href='vscode-notebook-cell:/c%3A/Users/USER/Documents/GitHub/blabla/pytorch_program/speechCommands.ipynb#W4sZmlsZQ%3D%3D?line=5'>6</a>\u001b[0m filepath \u001b[39m=\u001b[39m os\u001b[39m.\u001b[39mpath\u001b[39m.\u001b[39mjoin(\u001b[39mself\u001b[39m\u001b[39m.\u001b[39m_path,filename)\n\u001b[0;32m      <a href='vscode-notebook-cell:/c%3A/Users/USER/Documents/GitHub/blabla/pytorch_program/speechCommands.ipynb#W4sZmlsZQ%3D%3D?line=6'>7</a>\u001b[0m \u001b[39mwith\u001b[39;00m \u001b[39mopen\u001b[39m(filepath) \u001b[39mas\u001b[39;00m fileobj:\n\u001b[1;32m----> <a href='vscode-notebook-cell:/c%3A/Users/USER/Documents/GitHub/blabla/pytorch_program/speechCommands.ipynb#W4sZmlsZQ%3D%3D?line=7'>8</a>\u001b[0m     \u001b[39mreturn\u001b[39;00m [os\u001b[39m.\u001b[39mpath\u001b[39m.\u001b[39mnormpath(os\u001b[39m.\u001b[39mpath\u001b[39m.\u001b[39mjoin(\u001b[39mself\u001b[39m\u001b[39m.\u001b[39m_path,line\u001b[39m.\u001b[39;49mstrio())) \u001b[39mfor\u001b[39;00m line \u001b[39min\u001b[39;00m fileobj]\n",
      "\u001b[1;31mAttributeError\u001b[0m: 'str' object has no attribute 'strio'"
     ]
    }
   ],
   "source": [
    "class SubsetSC(SPEECHCOMMANDS):\n",
    "    def __init__(self,subset:str =None):\n",
    "        super().__init__(\"./\",download=True)\n",
    "\n",
    "        def load_list(filename):\n",
    "            filepath = os.path.join(self._path,filename)\n",
    "            with open(filepath) as fileobj:\n",
    "                return [os.path.normpath(os.path.join(self._path,line.strio())) for line in fileobj]\n",
    "        if subset == \"validation\":\n",
    "            selef._walker = load_list(\"validation_list.txt\")\n",
    "        elif subset == \"testing\":\n",
    "            self._walker = load_list(\"testing_list.txt\")\n",
    "        elif subset == \"training\":\n",
    "            excludes = load_list(\"validation_list.txt\")+ load_list(\"testing_list.txt\")\n",
    "            excludes = set(excludes)\n",
    "            self._walker = [w for w in self_walker if w not in excludes]         \n",
    "\n",
    "train_set = SubsetSC(\"training\")\n",
    "test_set = SubsetSC(\"testing\")\n",
    "waveform,sample_rate,label,speak_id,utterance_numver =train_set[0]"
   ]
  },
  {
   "cell_type": "code",
   "execution_count": null,
   "metadata": {},
   "outputs": [],
   "source": [
    "print(\"shape of waveform:{}\".format(waveform.size()))\n",
    "print(\"Sample rate of waveform:{}\".format(sample_rate))\n",
    "\n",
    "plt.plot(waveform.t().numpy())"
   ]
  },
  {
   "cell_type": "code",
   "execution_count": null,
   "metadata": {},
   "outputs": [],
   "source": [
    "labels = sorted(list(set(datapoint[2] for datapoint in train_set)))\n",
    "print(labels)"
   ]
  },
  {
   "cell_type": "code",
   "execution_count": null,
   "metadata": {},
   "outputs": [],
   "source": [
    "#采样，加快处理速度\n",
    "new"
   ]
  }
 ],
 "metadata": {
  "kernelspec": {
   "display_name": "ml",
   "language": "python",
   "name": "python3"
  },
  "language_info": {
   "codemirror_mode": {
    "name": "ipython",
    "version": 3
   },
   "file_extension": ".py",
   "mimetype": "text/x-python",
   "name": "python",
   "nbconvert_exporter": "python",
   "pygments_lexer": "ipython3",
   "version": "3.10.6"
  },
  "orig_nbformat": 4,
  "vscode": {
   "interpreter": {
    "hash": "6cc89c898d1089477244f9a8064e921d9248648523d0f4f0a401b4ae8980a7a0"
   }
  }
 },
 "nbformat": 4,
 "nbformat_minor": 2
}
